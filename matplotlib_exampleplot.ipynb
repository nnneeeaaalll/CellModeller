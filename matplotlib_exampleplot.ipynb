{
  "nbformat": 4,
  "nbformat_minor": 0,
  "metadata": {
    "colab": {
      "name": "matplotlib_exampleplot.ipynb",
      "provenance": [],
      "authorship_tag": "ABX9TyNe3YZu58sTCZ+tDlGh+DSF",
      "include_colab_link": true
    },
    "kernelspec": {
      "name": "python3",
      "display_name": "Python 3"
    },
    "language_info": {
      "name": "python"
    }
  },
  "cells": [
    {
      "cell_type": "markdown",
      "metadata": {
        "id": "view-in-github",
        "colab_type": "text"
      },
      "source": [
        "<a href=\"https://colab.research.google.com/github/nnneeeaaalll/CellModeller/blob/master/matplotlib_exampleplot.ipynb\" target=\"_parent\"><img src=\"https://colab.research.google.com/assets/colab-badge.svg\" alt=\"Open In Colab\"/></a>"
      ]
    },
    {
      "cell_type": "code",
      "metadata": {
        "colab": {
          "base_uri": "https://localhost:8080/",
          "height": 34
        },
        "id": "zF_xTocV1Ru_",
        "outputId": "928b7e91-8d30-49b0-d659-72d767bfb668"
      },
      "source": [
        "%autosave 100"
      ],
      "execution_count": 1,
      "outputs": [
        {
          "output_type": "display_data",
          "data": {
            "application/javascript": [
              "IPython.notebook.set_autosave_interval(100000)"
            ]
          },
          "metadata": {
            "tags": []
          }
        },
        {
          "output_type": "stream",
          "text": [
            "Autosaving every 100 seconds\n"
          ],
          "name": "stdout"
        }
      ]
    },
    {
      "cell_type": "code",
      "metadata": {
        "id": "dQxeQVn_1eFo"
      },
      "source": [
        "#matplotlib makes plots work like matlab\n",
        "import matplotlib.pyplot as plt"
      ],
      "execution_count": 2,
      "outputs": []
    },
    {
      "cell_type": "code",
      "metadata": {
        "colab": {
          "base_uri": "https://localhost:8080/",
          "height": 265
        },
        "id": "NclA1DoR4LcP",
        "outputId": "60ebd160-a1ee-4132-efe9-274ea1bc2281"
      },
      "source": [
        "p1=plt.plot([1,2,3,4],[3,5,2,8])\n",
        "plt.show()"
      ],
      "execution_count": 3,
      "outputs": [
        {
          "output_type": "display_data",
          "data": {
            "image/png": "[encoded data removed]",
            "text/plain": [
              "<Figure size 432x288 with 1 Axes>"
            ]
          },
          "metadata": {
            "tags": [],
            "needs_background": "light"
          }
        }
      ]
    },
    {
      "cell_type": "code",
      "metadata": {
        "colab": {
          "base_uri": "https://localhost:8080/"
        },
        "id": "ALSByVaf5ll8",
        "outputId": "2a6beeae-e023-42b5-a238-00bf8022f858"
      },
      "source": [
        "%whos"
      ],
      "execution_count": 6,
      "outputs": [
        {
          "output_type": "stream",
          "text": [
            "Variable   Type      Data/Info\n",
            "------------------------------\n",
            "p1         list      n=1\n",
            "plt        module    <module 'matplotlib.pyplo<...>es/matplotlib/pyplot.py'>\n"
          ],
          "name": "stdout"
        }
      ]
    }
  ]
}